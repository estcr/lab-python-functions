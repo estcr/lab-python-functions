{
 "cells": [
  {
   "cell_type": "markdown",
   "id": "25d7736c-ba17-4aff-b6bb-66eba20fbf4e",
   "metadata": {},
   "source": [
    "# Lab | Functions"
   ]
  },
  {
   "cell_type": "markdown",
   "id": "0c581062-8967-4d93-b06e-62833222f930",
   "metadata": {
    "tags": []
   },
   "source": [
    "## Exercise: Managing Customer Orders with Functions\n",
    "\n",
    "In the previous exercise, you improved the code for managing customer orders by using loops and flow control. Now, let's take it a step further and refactor the code by introducing functions.\n",
    "\n",
    "Follow the steps below to complete the exercise:\n",
    "\n",
    "1. Define a function named `initialize_inventory` that takes `products` as a parameter. Inside the function, implement the code for initializing the inventory dictionary using a loop and user input.\n",
    "\n",
    "2. Define a function named `get_customer_orders` that takes no parameters. Inside the function, implement the code for prompting the user to enter the product names using a loop. The function should return the `customer_orders` set.\n",
    "\n",
    "3. Define a function named `update_inventory` that takes `customer_orders` and `inventory` as parameters. Inside the function, implement the code for updating the inventory dictionary based on the customer orders.\n",
    "\n",
    "4. Define a function named `calculate_order_statistics` that takes `customer_orders` and `products` as parameters. Inside the function, implement the code for calculating the order statistics (total products ordered, and percentage of unique products ordered). The function should return these values.\n",
    "\n",
    "5. Define a function named `print_order_statistics` that takes `order_statistics` as a parameter. Inside the function, implement the code for printing the order statistics.\n",
    "\n",
    "6. Define a function named `print_updated_inventory` that takes `inventory` as a parameter. Inside the function, implement the code for printing the updated inventory.\n",
    "\n",
    "7. Call the functions in the appropriate sequence to execute the program and manage customer orders.\n",
    "\n",
    "Hints for functions:\n",
    "\n",
    "- Consider the input parameters required for each function and their return values.\n",
    "- Utilize function parameters and return values to transfer data between functions.\n",
    "- Test your functions individually to ensure they work correctly.\n",
    "\n",
    "\n"
   ]
  },
  {
   "cell_type": "code",
   "execution_count": 2,
   "id": "73de913e",
   "metadata": {},
   "outputs": [
    {
     "ename": "ValueError",
     "evalue": "invalid literal for int() with base 10: ''",
     "output_type": "error",
     "traceback": [
      "\u001b[1;31m---------------------------------------------------------------------------\u001b[0m",
      "\u001b[1;31mValueError\u001b[0m                                Traceback (most recent call last)",
      "Cell \u001b[1;32mIn[2], line 16\u001b[0m\n\u001b[0;32m     12\u001b[0m     \u001b[38;5;28;01mreturn\u001b[39;00m inventory\n\u001b[0;32m     15\u001b[0m productos \u001b[38;5;241m=\u001b[39m [\u001b[38;5;124m\"\u001b[39m\u001b[38;5;124mcamisetas\u001b[39m\u001b[38;5;124m\"\u001b[39m, \u001b[38;5;124m\"\u001b[39m\u001b[38;5;124msombrero\u001b[39m\u001b[38;5;124m\"\u001b[39m, \u001b[38;5;124m\"\u001b[39m\u001b[38;5;124mllavero\u001b[39m\u001b[38;5;124m\"\u001b[39m,\u001b[38;5;124m\"\u001b[39m\u001b[38;5;124mjarra\u001b[39m\u001b[38;5;124m\"\u001b[39m, \u001b[38;5;124m\"\u001b[39m\u001b[38;5;124mlibro\u001b[39m\u001b[38;5;124m\"\u001b[39m]\n\u001b[1;32m---> 16\u001b[0m inventario\u001b[38;5;241m=\u001b[39m\u001b[43minitialize_inventory\u001b[49m\u001b[43m(\u001b[49m\u001b[43mproductos\u001b[49m\u001b[43m)\u001b[49m\n\u001b[0;32m     17\u001b[0m \u001b[38;5;28mprint\u001b[39m(inventario)\n",
      "Cell \u001b[1;32mIn[2], line 10\u001b[0m, in \u001b[0;36minitialize_inventory\u001b[1;34m(products)\u001b[0m\n\u001b[0;32m      8\u001b[0m inventory\u001b[38;5;241m=\u001b[39m{}\n\u001b[0;32m      9\u001b[0m \u001b[38;5;28;01mfor\u001b[39;00m product \u001b[38;5;129;01min\u001b[39;00m products:\n\u001b[1;32m---> 10\u001b[0m     stock\u001b[38;5;241m=\u001b[39m \u001b[38;5;28;43mint\u001b[39;49m\u001b[43m(\u001b[49m\u001b[38;5;28;43minput\u001b[39;49m\u001b[43m(\u001b[49m\u001b[38;5;124;43mf\u001b[39;49m\u001b[38;5;124;43m\"\u001b[39;49m\u001b[38;5;124;43mCual es el stock del producto \u001b[39;49m\u001b[38;5;132;43;01m{\u001b[39;49;00m\u001b[43mproduct\u001b[49m\u001b[38;5;132;43;01m}\u001b[39;49;00m\u001b[38;5;124;43m?\u001b[39;49m\u001b[38;5;124;43m\"\u001b[39;49m\u001b[43m)\u001b[49m\u001b[43m)\u001b[49m\n\u001b[0;32m     11\u001b[0m     inventory[product]\u001b[38;5;241m=\u001b[39m stock\n\u001b[0;32m     12\u001b[0m \u001b[38;5;28;01mreturn\u001b[39;00m inventory\n",
      "\u001b[1;31mValueError\u001b[0m: invalid literal for int() with base 10: ''"
     ]
    }
   ],
   "source": [
    "#1\n",
    "def initialize_inventory(products):\n",
    "    \"\"\"\n",
    "    Funcion creada para generar el diccionario de inventario\n",
    "    Parametros se ingresan los productos de una lista\n",
    "    Luego se consultan el stock por medio de un input\n",
    "    \"\"\"\n",
    "    inventory={}\n",
    "    for product in products:\n",
    "        stock= int(input(f\"Cual es el stock del producto {product}?\"))\n",
    "        inventory[product]= stock\n",
    "    return inventory\n",
    "\n",
    "\n",
    "productos = [\"camisetas\", \"sombrero\", \"llavero\",\"jarra\", \"libro\"]\n",
    "inventario=initialize_inventory(productos)\n",
    "print(inventario)\n"
   ]
  },
  {
   "cell_type": "code",
   "execution_count": null,
   "id": "cb067265",
   "metadata": {},
   "outputs": [
    {
     "name": "stdout",
     "output_type": "stream",
     "text": [
      "Producto agregado al pedido\n",
      "Producto agregado al pedido\n",
      "Producto agregado al pedido\n",
      "Tu pedido es: {'jarra', 'sombrero', 'camisetas'}\n"
     ]
    }
   ],
   "source": [
    "#2\n",
    "def get_customer_orders():\n",
    "    \"\"\"\n",
    "    Funcion creada para realizar un pedido\n",
    "    Parametros se deja vacio ya que se solicita al cliente luego con el input\n",
    "    Se realiza un bucle while para ingresar productos de la lista creada en el punto anterior \n",
    "    y luego se va consultando si quiere agregar nuevamente o no\n",
    "    \"\"\"\n",
    "    customer_orders=set()\n",
    "    status = True\n",
    "\n",
    "    while status:\n",
    "        producto = input(f\"Ingresa el producto de la siguiente lista {productos} para confirmar tu pedido\")\n",
    "        if producto in productos:\n",
    "            customer_orders.add(producto)\n",
    "            print(\"Producto agregado al pedido\")\n",
    "        else:\n",
    "            print(\"El producto no esta en la lista\")\n",
    "        while True:\n",
    "            respuesta = input(\"Quieres agregar otro producto si o no?\")\n",
    "            if respuesta.lower()== \"no\":\n",
    "                status= False\n",
    "                break\n",
    "            elif respuesta.lower() == \"si\":\n",
    "                break\n",
    "            else:\n",
    "                print(\"Respuesta no valida, por favor responde si o no\")\n",
    "    return customer_orders\n",
    "\n",
    "customer_orders = get_customer_orders()\n",
    "#Hago una impresion del pedido realizado\n",
    "print(\"Tu pedido es:\", customer_orders)"
   ]
  },
  {
   "cell_type": "code",
   "execution_count": 1,
   "id": "f37f13e8",
   "metadata": {},
   "outputs": [
    {
     "ename": "NameError",
     "evalue": "name 'customer_orders' is not defined",
     "output_type": "error",
     "traceback": [
      "\u001b[1;31m---------------------------------------------------------------------------\u001b[0m",
      "\u001b[1;31mNameError\u001b[0m                                 Traceback (most recent call last)",
      "Cell \u001b[1;32mIn[1], line 12\u001b[0m\n\u001b[0;32m      9\u001b[0m         inventario[producto] \u001b[38;5;241m-\u001b[39m\u001b[38;5;241m=\u001b[39m \u001b[38;5;241m1\u001b[39m \n\u001b[0;32m     10\u001b[0m     \u001b[38;5;28;01mreturn\u001b[39;00m inventario\n\u001b[1;32m---> 12\u001b[0m nuevoinventario \u001b[38;5;241m=\u001b[39m update_inventory(\u001b[43mcustomer_orders\u001b[49m,inventario)\n\u001b[0;32m     13\u001b[0m \u001b[38;5;28mprint\u001b[39m(nuevoinventario)\n",
      "\u001b[1;31mNameError\u001b[0m: name 'customer_orders' is not defined"
     ]
    }
   ],
   "source": [
    "#3\n",
    "def update_inventory(customer_orders,inventario):\n",
    "    \"\"\"\n",
    "    Funcion creada para actualizar el inventario\n",
    "    Donde se usan los parametros que fueron resultados de otras funciones\n",
    "    para itinerar sobre ellos y actualizar\n",
    "    devuelve el inventario actualizado\n",
    "    \"\"\"\n",
    "    for producto in customer_orders:\n",
    "        inventario[producto] -= 1 \n",
    "    return inventario\n",
    "\n",
    "nuevoinventario = update_inventory(customer_orders,inventario)\n",
    "print(nuevoinventario)"
   ]
  },
  {
   "cell_type": "code",
   "execution_count": null,
   "id": "6a80d31b",
   "metadata": {},
   "outputs": [],
   "source": [
    "#4\n",
    "\n",
    "def calculate_orders_statistics(customer_orders,productos):\n",
    "    \"\"\"\n",
    "    Funcion para calcular el total de productos y porcentaje de los pedidos segun el stock \n",
    "    Usando los parametros solicitados\n",
    "    y devolviendo 2 nuevas variables con los calculos realizados   \n",
    "    \"\"\"\n",
    "    totalproducts = len(customer_orders)\n",
    "    percentageordered = round((totalproducts / len(productos)) * 100, 2)\n",
    "    return totalproducts, percentageordered\n",
    "\n",
    "order_statistics =calculate_orders_statistics(customer_orders,productos)"
   ]
  },
  {
   "cell_type": "code",
   "execution_count": null,
   "id": "2b9a1d46",
   "metadata": {},
   "outputs": [
    {
     "name": "stdout",
     "output_type": "stream",
     "text": [
      "Estadísticas del pedido:\n",
      "Total de productos únicos pedidos: 3\n",
      "Porcentaje de productos únicos pedidos: 60.0%\n"
     ]
    }
   ],
   "source": [
    "#5\n",
    "def print_order_statistics(order_statistics):\n",
    "    \"\"\"\n",
    "    Funcion para imprimir los resultados de la funcion anterior\n",
    "    \"\"\"\n",
    "\n",
    "    # Desempaquetar la tupla en dos variables\n",
    "    totalproducts, percentageordered = order_statistics\n",
    "    \n",
    "    # Imprimir los resultados\n",
    "    print(\"Estadísticas del pedido:\")\n",
    "    print(f\"Total de productos únicos pedidos: {totalproducts}\")\n",
    "    print(f\"Porcentaje de productos únicos pedidos: {percentageordered}%\")\n",
    "\n",
    "print_order_statistics(order_statistics)"
   ]
  },
  {
   "cell_type": "code",
   "execution_count": null,
   "id": "7c78b1b8",
   "metadata": {},
   "outputs": [
    {
     "name": "stdout",
     "output_type": "stream",
     "text": [
      "Inventario actualizado:\n",
      "camisetas: 4 unidades\n",
      "sombrero: 4 unidades\n",
      "llavero: 5 unidades\n",
      "jarra: 4 unidades\n",
      "libro: 5 unidades\n"
     ]
    }
   ],
   "source": [
    "#6\n",
    "def print_updated_inventory(inventario):\n",
    "    # Imprimir encabezado\n",
    "    print(\"Inventario actualizado:\")\n",
    "    \n",
    "    # Recorrer el inventario e imprimir cada producto y su cantidad.\n",
    "    for product, quantity in inventario.items():\n",
    "        print(f\"{product}: {quantity} unidades\")\n",
    "\n",
    "print_updated_inventory(inventario)"
   ]
  }
 ],
 "metadata": {
  "kernelspec": {
   "display_name": "Python 3",
   "language": "python",
   "name": "python3"
  },
  "language_info": {
   "codemirror_mode": {
    "name": "ipython",
    "version": 3
   },
   "file_extension": ".py",
   "mimetype": "text/x-python",
   "name": "python",
   "nbconvert_exporter": "python",
   "pygments_lexer": "ipython3",
   "version": "3.11.4"
  }
 },
 "nbformat": 4,
 "nbformat_minor": 5
}
